{
 "cells": [
  {
   "cell_type": "code",
   "execution_count": 1,
   "metadata": {},
   "outputs": [],
   "source": [
    "from yoloDetector import YoloDetector"
   ]
  },
  {
   "cell_type": "code",
   "execution_count": 2,
   "metadata": {},
   "outputs": [
    {
     "name": "stdout",
     "output_type": "stream",
     "text": [
      "Requirement already satisfied: numba in c:\\users\\admin\\.conda\\envs\\main_py312\\lib\\site-packages (0.60.0)\n",
      "Requirement already satisfied: llvmlite<0.44,>=0.43.0dev0 in c:\\users\\admin\\.conda\\envs\\main_py312\\lib\\site-packages (from numba) (0.43.0)\n",
      "Requirement already satisfied: numpy<2.1,>=1.22 in c:\\users\\admin\\.conda\\envs\\main_py312\\lib\\site-packages (from numba) (1.26.4)\n"
     ]
    }
   ],
   "source": [
    "!pip install numba"
   ]
  },
  {
   "cell_type": "markdown",
   "metadata": {},
   "source": [
    "## Khoi tao: model, label_path va image_path"
   ]
  },
  {
   "cell_type": "code",
   "execution_count": 3,
   "metadata": {},
   "outputs": [],
   "source": [
    "detector = YoloDetector() #initialize the detector\n",
    "label_path = r\"C:/data_object_image_2/training/label_2\"\n",
    "image_path = r\"C:/data_object_image_2/training/image_2\""
   ]
  },
  {
   "cell_type": "code",
   "execution_count": 4,
   "metadata": {},
   "outputs": [],
   "source": [
    "import os\n",
    "import numpy as np\n",
    "import cv2"
   ]
  },
  {
   "cell_type": "code",
   "execution_count": 5,
   "metadata": {},
   "outputs": [
    {
     "name": "stdout",
     "output_type": "stream",
     "text": [
      "7481\n"
     ]
    }
   ],
   "source": [
    "print(len(os.listdir(label_path)))"
   ]
  },
  {
   "cell_type": "code",
   "execution_count": 6,
   "metadata": {},
   "outputs": [
    {
     "name": "stdout",
     "output_type": "stream",
     "text": [
      "7481\n"
     ]
    }
   ],
   "source": [
    "print(len(os.listdir(image_path)))"
   ]
  },
  {
   "cell_type": "markdown",
   "metadata": {},
   "source": [
    "### Dem so type\n"
   ]
  },
  {
   "cell_type": "code",
   "execution_count": 7,
   "metadata": {},
   "outputs": [],
   "source": [
    "labels = set()\n",
    "for one_path in os.listdir(label_path):\n",
    "    with open(os.path.join(label_path, one_path), 'r') as f:\n",
    "            \n",
    "                for line in f:\n",
    "                    #preprocess path\n",
    "                    line = line.strip().split(' ')\n",
    "                    label = line[0]\n",
    "                    if label not in labels:\n",
    "                        labels.add(label)\n",
    "print(labels)"
   ]
  },
  {
   "cell_type": "markdown",
   "metadata": {},
   "source": [
    "## Bat dau chay tu doan code nay"
   ]
  },
  {
   "cell_type": "code",
   "execution_count": null,
   "metadata": {},
   "outputs": [],
   "source": [
    "def IoU(box1, box2):\n",
    "   \n",
    "    x1, y1, w1, h1 = box1\n",
    "    x2, y2, w2, h2 = box2\n",
    "    \n",
    "    iou = 0.0\n",
    "\n",
    "    \n",
    "    xA = max(x1, x2)\n",
    "    yA = max(y1, y2)\n",
    "    xB = min(x1 + w1, x2 + w2)\n",
    "    yB = min(y1 + h1, y2 + h2)\n",
    "\n",
    "    interArea = max(0, xB - xA) * max(0, yB - yA)\n",
    "\n",
    "    box1Area = w1 * h1\n",
    "    box2Area = w2 * h2\n",
    "\n",
    "    iou = interArea / float(box1Area + box2Area - interArea)\n",
    "\n",
    "    return iou"
   ]
  },
  {
   "cell_type": "code",
   "execution_count": null,
   "metadata": {},
   "outputs": [],
   "source": [
    "import tqdm\n",
    "\n",
    "def evaluate_detector(min_pixel, max_occlusion, max_truncation, detector, path = 'data/test_ann.txt', images_path = '',):\n",
    "    TP = [0, 0, 0, 0, 0]\n",
    "    FP = [0, 0, 0, 0, 0]\n",
    "    FN = [0, 0, 0, 0, 0]\n",
    "\n",
    "    ### tạo đối tượng CascadeClassifier và khởi tạo bằng file xml đã học được \n",
    "    # our_cascade = cv2.CascadeClassifier('cascade.xml')\n",
    "\n",
    "    threshold = 0.3\n",
    "    cnt = 0\n",
    "    \n",
    "    for one_path in tqdm.tqdm(os.listdir(path), desc=\"Processing\", unit=\"file\"):\n",
    "    # for one_path in ['000003.txt']:\n",
    "        # print(one_path)\n",
    "        img = cv2.imread(os.path.join(images_path, one_path[:-3] + 'png'))\n",
    "        # print(img)\n",
    "        detector.DetectFrame(img)\n",
    "        cars = []\n",
    "        pedestrian = []\n",
    "        truck = []\n",
    "        bicycle = []\n",
    "        other = []\n",
    "        for i in detector._object_info:\n",
    "            if i.label == 'car':\n",
    "                cars.append(i)\n",
    "            elif i.label == 'person':\n",
    "                pedestrian.append(i)\n",
    "            elif i.label == 'truck':\n",
    "                truck.append(i)\n",
    "            elif i.label == 'bicycle':\n",
    "                bicycle.append(i)\n",
    "            else:\n",
    "                other.append(i)\n",
    "        true_detect = [0,0,0,0,0]\n",
    "        with open(os.path.join(path, one_path), 'r') as f:\n",
    "        \n",
    "            for line in f:\n",
    "                #preprocess path\n",
    "                line = line.strip().split(' ') #\n",
    "                \n",
    "                truth_box = [float(line[i]) for i in range(4, 8)]   # x1, y1, x2, y2\n",
    "                truth_box[2] = truth_box[2] - truth_box[0]\n",
    "                truth_box[3] = truth_box[3] - truth_box[1]\n",
    "                # if(truth_box[3] < min_pixel): print('skip: pixel'); continue\n",
    "                # if(float(line[1]) > max_truncation): print('skip: max_truncation');continue\n",
    "                # if(float(line[2]) > max_occlusion): print('skip: max_occulusion'); continue\n",
    "                type = line[0]\n",
    "                if type == 'Car':\n",
    "                    if len(cars) == 0:\n",
    "                        FN[0] += 1\n",
    "                        continue\n",
    "                    for detection in cars:\n",
    "                        box = (detection.x, detection.y, detection.width, detection.height)\n",
    "                        \n",
    "                        t = IoU(box, truth_box)\n",
    "                        if t >= threshold:\n",
    "                            true_detect[0] += 1\n",
    "                            break\n",
    "                    else:\n",
    "                        FN[0] += 1\n",
    "                elif type == 'Pedestrian':\n",
    "                    if len(pedestrian) == 0:\n",
    "                        FN[1] += 1\n",
    "                        continue\n",
    "                    for detection in pedestrian:\n",
    "                        box = (detection.x, detection.y, detection.width, detection.height)\n",
    "                        t = IoU(box, truth_box)\n",
    "                        if t >= threshold:\n",
    "                            true_detect[1] += 1\n",
    "                            break\n",
    "                    else:\n",
    "                        FN[1] += 1\n",
    "                elif type == 'Truck':\n",
    "                    if len(truck) == 0:\n",
    "                        FN[2] += 1\n",
    "                        continue\n",
    "                    for detection in truck:\n",
    "                        box = (detection.x, detection.y, detection.width, detection.height)\n",
    "                        t = IoU(box, truth_box)\n",
    "                        if t >= threshold:\n",
    "                            true_detect[2] += 1\n",
    "                            break\n",
    "                    else:\n",
    "                        FN[2] += 1\n",
    "                elif type == 'Cyclist':\n",
    "                    if len(bicycle) == 0:\n",
    "                        FN[3] += 1\n",
    "                        continue\n",
    "                    for detection in bicycle:\n",
    "                        box = (detection.x, detection.y, detection.width, detection.height)\n",
    "                        t = IoU(box, truth_box)\n",
    "                        if t >= threshold:\n",
    "                            true_detect[3] += 1\n",
    "                            break\n",
    "                    else:\n",
    "                        FN[3] += 1\n",
    "                else:\n",
    "                    if len(other) == 0:\n",
    "                        FN[4] += 1\n",
    "                        continue\n",
    "                    for detection in other:\n",
    "                        box = (detection.x, detection.y, detection.width, detection.height)\n",
    "                        t = IoU(box, truth_box)\n",
    "                        if t >= threshold:\n",
    "                            true_detect[4] += 1\n",
    "                            break\n",
    "                    else:\n",
    "                        FN[4] += 1\n",
    "\n",
    "        for i in range(5):\n",
    "            TP[i] += true_detect[i]\n",
    "            if i == 0: FP[i] += len(cars) - true_detect[i]\n",
    "            elif i == 1: FP[i] += len(pedestrian) - true_detect[i]\n",
    "            elif i == 2: FP[i] += len(truck) - true_detect[i]\n",
    "            elif i == 3: FP[i] += len(bicycle) - true_detect[i]\n",
    "            elif i == 4: FP[i] += len(other) - true_detect[i]\n",
    "\n",
    "        cnt += 1\n",
    "        \n",
    "    TP = np.array(TP)\n",
    "    FP = np.array(FP)\n",
    "    FN = np.array(FN)\n",
    "    precision = 1.0 * TP / (TP + FP)\n",
    "    recall = 1.0 * TP / (TP + FN)\n",
    "    f1 = 2 * precision * recall / (precision + recall)\n",
    "    \n",
    "    return precision, recall, f1"
   ]
  },
  {
   "cell_type": "markdown",
   "metadata": {},
   "source": [
    "### Easy task: height of pixel >= 40, truncated <= 0.15, ko bi che phu (0)"
   ]
  },
  {
   "cell_type": "code",
   "execution_count": 49,
   "metadata": {},
   "outputs": [
    {
     "name": "stdout",
     "output_type": "stream",
     "text": [
      "6.683598449405159 %\n"
     ]
    }
   ],
   "source": [
    "#easy task\n",
    "precision, recall, f1 = evaluate_detector(40,0,0.15, detector, label_path, images_path = image_path)"
   ]
  },
  {
   "cell_type": "code",
   "execution_count": 48,
   "metadata": {},
   "outputs": [
    {
     "name": "stdout",
     "output_type": "stream",
     "text": [
      "[0.90937997 0.72093023 0.375      0.25       0.1875    ]\n",
      "[0.77823129 0.59047619 0.5        0.15217391 0.01627486]\n",
      "[0.83870968 0.64921466 0.42857143 0.18918919 0.02995008]\n"
     ]
    }
   ],
   "source": [
    "print('precision: ', precision)\n",
    "# print(precision, recall, f1, sep = '\\n')"
   ]
  },
  {
   "cell_type": "code",
   "execution_count": null,
   "metadata": {},
   "outputs": [],
   "source": [
    "import pandas as pd\n",
    "object_types = [\"Car\", \"Pedestrian\", \"Truck\", \"Cyclist\", \"Other\"]\n",
    "\n",
    "# Tạo DataFrame từ các giá trị\n",
    "df = pd.DataFrame({\n",
    "    \"Object Type\": object_types,\n",
    "    \"Precision\": precision,\n",
    "    \"Recall\": recall,\n",
    "    \"F1\": f1\n",
    "})\n",
    "\n",
    "# Hiển thị DataFrame dưới dạng bảng\n",
    "print(df.to_string(index=False))"
   ]
  },
  {
   "cell_type": "markdown",
   "metadata": {},
   "source": [
    "## Medium task: height of pixel < 25,>"
   ]
  },
  {
   "cell_type": "code",
   "execution_count": 21,
   "metadata": {},
   "outputs": [
    {
     "name": "stderr",
     "output_type": "stream",
     "text": [
      "Processing: 100%|██████████| 7481/7481 [33:09<00:00,  3.76file/s]  \n"
     ]
    }
   ],
   "source": [
    "#Medium task\n",
    "precision, recall, f1 = evaluate_detector(25,1,0.3, detector, label_path, images_path = image_path)"
   ]
  },
  {
   "cell_type": "code",
   "execution_count": 22,
   "metadata": {},
   "outputs": [
    {
     "name": "stdout",
     "output_type": "stream",
     "text": [
      "Object Type  Precision   Recall       F1\n",
      "        Car   0.899544 0.803180 0.848635\n",
      " Pedestrian   0.770043 0.633608 0.695195\n",
      "      Truck   0.323064 0.354662 0.338126\n",
      "    Cyclist   0.108491 0.141364 0.122765\n",
      "      Other   0.219926 0.033428 0.058034\n"
     ]
    }
   ],
   "source": [
    "import pandas as pd\n",
    "object_types = [\"Car\", \"Pedestrian\", \"Truck\", \"Cyclist\", \"Other\"]\n",
    "\n",
    "# Tạo DataFrame từ các giá trị\n",
    "df = pd.DataFrame({\n",
    "    \"Object Type\": object_types,\n",
    "    \"Precision\": precision,\n",
    "    \"Recall\": recall,\n",
    "    \"F1\": f1\n",
    "})\n",
    "\n",
    "# Hiển thị DataFrame dưới dạng bảng\n",
    "print(df.to_string(index=False))"
   ]
  },
  {
   "cell_type": "code",
   "execution_count": null,
   "metadata": {},
   "outputs": [],
   "source": [
    "print(precision, recall, f1, sep = '\\n')"
   ]
  },
  {
   "cell_type": "markdown",
   "metadata": {},
   "source": [
    "# Hard task"
   ]
  },
  {
   "cell_type": "code",
   "execution_count": null,
   "metadata": {},
   "outputs": [
    {
     "name": "stderr",
     "output_type": "stream",
     "text": [
      "Processing:   0%|          | 0/7481 [00:00<?, ?file/s]"
     ]
    },
    {
     "name": "stderr",
     "output_type": "stream",
     "text": [
      "Processing:  26%|██▋       | 1972/7481 [13:14<36:26,  2.52file/s]  "
     ]
    }
   ],
   "source": [
    "#hard task\n",
    "precision, recall, f1 = evaluate_detector(25,2,0.5, detector, label_path, images_path = image_path)"
   ]
  },
  {
   "cell_type": "code",
   "execution_count": null,
   "metadata": {},
   "outputs": [],
   "source": [
    "import pandas as pd\n",
    "object_types = [\"Car\", \"Pedestrian\", \"Truck\", \"Cyclist\", \"Other\"]\n",
    "\n",
    "# Tạo DataFrame từ các giá trị\n",
    "df = pd.DataFrame({\n",
    "    \"Object Type\": object_types,\n",
    "    \"Precision\": precision,\n",
    "    \"Recall\": recall,\n",
    "    \"F1\": f1\n",
    "})\n",
    "\n",
    "# Hiển thị DataFrame dưới dạng bảng\n",
    "print(df.to_string(index=False))"
   ]
  }
 ],
 "metadata": {
  "kernelspec": {
   "display_name": "Python 3",
   "language": "python",
   "name": "python3"
  },
  "language_info": {
   "codemirror_mode": {
    "name": "ipython",
    "version": 3
   },
   "file_extension": ".py",
   "mimetype": "text/x-python",
   "name": "python",
   "nbconvert_exporter": "python",
   "pygments_lexer": "ipython3",
   "version": "3.12.3"
  }
 },
 "nbformat": 4,
 "nbformat_minor": 2
}
